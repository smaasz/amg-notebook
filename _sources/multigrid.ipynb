{
  "cells": [
    {
      "cell_type": "code",
      "execution_count": 16,
      "metadata": {
        "id": "BUAwj0ElmRPt"
      },
      "outputs": [],
      "source": [
        "import numpy as np\n",
        "from matplotlib import pyplot as plt\n",
        "from helpers import *\n",
        "%matplotlib inline"
      ]
    },
    {
      "attachments": {},
      "cell_type": "markdown",
      "metadata": {},
      "source": [
        "# Example: Poisson Problem with homog. Dirichlet BC's:\n",
        "$u''(x) = b(x)$ on $x\\in(0,1)$\n",
        "\n",
        "$u(0)=u(1)=0$"
      ]
    },
    {
      "attachments": {},
      "cell_type": "markdown",
      "metadata": {},
      "source": [
        "## 1-dimensional grid"
      ]
    },
    {
      "cell_type": "code",
      "execution_count": 17,
      "metadata": {
        "tags": [
          "hide-input"
        ]
      },
      "outputs": [
        {
          "data": {
            "image/png": "[encoded data removed]",
            "text/plain": [
              "<Figure size 432x288 with 1 Axes>"
            ]
          },
          "metadata": {},
          "output_type": "display_data"
        }
      ],
      "source": [
        "fig = plt.figure(facecolor='white')\n",
        "ax = plt.axes()\n",
        "ax.set_yticks([])\n",
        "ax.set_xticks([0,2,4])\n",
        "ax.set_xticklabels([\"$u_{C,1}$\",\"$u_{C,2}$\",\"$u_{C,3}$\"])\n",
        "ax.set_xticks([1,3], minor=True)\n",
        "ax.set_xticklabels([\"$u_{F,1}$\", \"$u_{F,2}$\"], minor=True)\n",
        "ax.tick_params(length=20, width=2, direction='inout', labelsize='20', which='both')\n",
        "ax.tick_params(colors='r', which=\"minor\")\n",
        "ax.set_ylim(ymin=-.2, ymax=.2)\n",
        "ax.get_yaxis().set_visible(False)\n",
        "ax.spines['top'].set_visible(False)\n",
        "ax.spines['right'].set_visible(False)\n",
        "ax.spines['left'].set_visible(False)\n",
        "ax.spines['bottom'].set_position('zero')\n",
        "ax.spines['bottom'].set_linewidth(2)\n",
        "ax.get_xaxis().set_visible(True)"
      ]
    },
    {
      "attachments": {},
      "cell_type": "markdown",
      "metadata": {},
      "source": [
        "## Discretization"
      ]
    },
    {
      "attachments": {},
      "cell_type": "markdown",
      "metadata": {},
      "source": [
        "Finite difference discretization yields the system\n",
        "\\begin{alignat*}{3}\n",
        "    &\\begin{bmatrix}\n",
        "        2& -1& & & \\\\\n",
        "        -1& 2& -1& & \\\\\n",
        "        & -1& 2& -1& \\\\\n",
        "        & & -1& 2& -1\\\\\n",
        "        & & & -1& 2\n",
        "    \\end{bmatrix}\n",
        "    &&\\begin{bmatrix}\n",
        "        u_{C, 1}\\\\\n",
        "        {\\color{red} u_{F,1}}\\\\\n",
        "        u_{C, 2}\\\\\n",
        "        {\\color{red} u_{F,2}}\\\\\n",
        "        u_{C, 3}\n",
        "    \\end{bmatrix}\n",
        "    &=\n",
        "    &\\begin{bmatrix}\n",
        "        b_{C, 1}\\\\\n",
        "        {\\color{red} b_{F,1}}\\\\\n",
        "        b_{C, 2}\\\\\n",
        "        {\\color{red} b_{F,2}}\\\\\n",
        "        b_{C, 3}\n",
        "    \\end{bmatrix}\n",
        "    \\\\\n",
        "    &\\hspace{2cm} A &&\\qquad u &= &\\qquad b\n",
        "\\end{alignat*}"
      ]
    },
    {
      "cell_type": "code",
      "execution_count": 18,
      "metadata": {},
      "outputs": [
        {
          "data": {
            "text/plain": [
              "array([[ 2., -1.,  0.,  0.,  0.],\n",
              "       [-1.,  2., -1.,  0.,  0.],\n",
              "       [ 0., -1.,  2., -1.,  0.],\n",
              "       [ 0.,  0., -1.,  2., -1.],\n",
              "       [ 0.,  0.,  0., -1.,  2.]])"
            ]
          },
          "execution_count": 18,
          "metadata": {},
          "output_type": "execute_result"
        }
      ],
      "source": [
        "n_c = 3\n",
        "n = 2*n_c - 1\n",
        "a = 2.0 * np.eye(n) - np.diag(np.ones(n-1), 1) - np.diag(np.ones(n-1),-1)\n",
        "a"
      ]
    },
    {
      "attachments": {},
      "cell_type": "markdown",
      "metadata": {},
      "source": [
        "## Prolongation/Interpolation\n",
        "$$\n",
        "P =\n",
        "\\begin{bmatrix}\n",
        "    1 & &\\\\\n",
        "    1/2 & 1/2 &\\\\\n",
        "    & 1 & \\\\\n",
        "    & 1/2 & 1/2\\\\\n",
        "    & & 1\n",
        "\\end{bmatrix}\n",
        "$$"
      ]
    },
    {
      "cell_type": "code",
      "execution_count": 19,
      "metadata": {},
      "outputs": [
        {
          "data": {
            "text/plain": [
              "array([[1. , 0. , 0. ],\n",
              "       [0.5, 0.5, 0. ],\n",
              "       [0. , 1. , 0. ],\n",
              "       [0. , 0.5, 0.5],\n",
              "       [0. , 0. , 1. ]])"
            ]
          },
          "execution_count": 19,
          "metadata": {},
          "output_type": "execute_result"
        }
      ],
      "source": [
        "p = get_interpolation_matrix(n_c-1)\n",
        "p"
      ]
    },
    {
      "attachments": {},
      "cell_type": "markdown",
      "metadata": {},
      "source": [
        "## Pre- and Post-Smoothing: Gauss-Seidel\n",
        "$$\n",
        "M = \\begin{bmatrix}\n",
        "   2 &   &   &   &   \\\\ \n",
        "    -1& 2  &   &   &   \\\\ \n",
        "  &   -1  & 2  &   &   \\\\ \n",
        "   & &  -1   & 2  &   \\\\ \n",
        "    &  &   &  -1 & 2  \\\\ \n",
        "\\end{bmatrix}\n",
        "$$"
      ]
    },
    {
      "cell_type": "code",
      "execution_count": 20,
      "metadata": {},
      "outputs": [
        {
          "data": {
            "text/plain": [
              "array([[ 2.,  0.,  0.,  0.,  0.],\n",
              "       [-1.,  2.,  0.,  0.,  0.],\n",
              "       [ 0., -1.,  2.,  0.,  0.],\n",
              "       [ 0.,  0., -1.,  2.,  0.],\n",
              "       [ 0.,  0.,  0., -1.,  2.]])"
            ]
          },
          "execution_count": 20,
          "metadata": {},
          "output_type": "execute_result"
        }
      ],
      "source": [
        "m = np.tril(a)\n",
        "m"
      ]
    },
    {
      "attachments": {},
      "cell_type": "markdown",
      "metadata": {},
      "source": [
        "## V-Cycle\n",
        "\n",
        "\\begin{align*}\n",
        "    T           &= (I-M^{-T}A)(I-PA_c^{-1}P^TA)(I-M^{-1}A)\\\\    \n",
        "    I-X^{-1}A   &= (I-M^{-T}A)(I-M^{-1}A)\\\\\n",
        "    X           &= M(M + M^{T} - A)^{-1} M^T = \\frac{1}{2}MM^T \\\\\n",
        "\\end{align*}\n"
      ]
    },
    {
      "cell_type": "code",
      "execution_count": 21,
      "metadata": {},
      "outputs": [
        {
          "data": {
            "text/plain": [
              "0.18911684020580705"
            ]
          },
          "execution_count": 21,
          "metadata": {},
          "output_type": "execute_result"
        }
      ],
      "source": [
        "I = np.eye(n)\n",
        "a_c   = p.transpose() @ a @ p\n",
        "t = (I - np.linalg.inv(m.transpose()) @ a) @ (I - p @ np.linalg.inv(a_c) @ p.transpose() @ a) @ (I - np.linalg.inv(m) @ a)\n",
        "max(np.linalg.eigvals(t))"
      ]
    },
    {
      "cell_type": "code",
      "execution_count": 22,
      "metadata": {
        "id": "_9Qfa4YEbNXA"
      },
      "outputs": [],
      "source": [
        "def multigrid_step(a, x, b):\n",
        "  n_c   = len(b) // 2\n",
        "  p     = get_interpolation_matrix(n_c)\n",
        "  a_c   = p.transpose() @ a @ p\n",
        "  \n",
        "  x     = gauss_seidel_forward(a, x, b)\n",
        "  \n",
        "  res   = b - a @ x\n",
        "  res_c = p.transpose() @ res\n",
        "  err_c = np.linalg.solve(a_c, res_c)\n",
        "  x     = x + p @ err_c\n",
        "\n",
        "  x     = gauss_seidel_backward(a, x, b)\n",
        "\n",
        "  return x"
      ]
    },
    {
      "attachments": {},
      "cell_type": "markdown",
      "metadata": {},
      "source": [
        "## Numerical Example"
      ]
    },
    {
      "cell_type": "code",
      "execution_count": 23,
      "metadata": {
        "id": "aYZtShCJm0T3"
      },
      "outputs": [],
      "source": [
        "x0 = np.random.randn(n)\n",
        "b = a @ x0"
      ]
    },
    {
      "cell_type": "code",
      "execution_count": 24,
      "metadata": {
        "id": "HU6nRX9OcQ4J"
      },
      "outputs": [],
      "source": [
        "x         = np.zeros_like(x0)\n",
        "\n",
        "it_steps  = 10\n",
        "errs      = []\n",
        "\n",
        "for i in range(it_steps):\n",
        "  x = multigrid_step(a, x, b)\n",
        "  errs.append(np.linalg.norm(x - x0))"
      ]
    },
    {
      "cell_type": "code",
      "execution_count": 25,
      "metadata": {},
      "outputs": [
        {
          "data": {
            "text/plain": [
              "<matplotlib.legend.Legend at 0x1b96e94f520>"
            ]
          },
          "execution_count": 25,
          "metadata": {},
          "output_type": "execute_result"
        },
        {
          "data": {
            "image/png": "[encoded data removed]",
            "text/plain": [
              "<Figure size 432x288 with 1 Axes>"
            ]
          },
          "metadata": {
            "needs_background": "light"
          },
          "output_type": "display_data"
        }
      ],
      "source": [
        "plt.semilogy(np.arange(it_steps), errs, label=\"error\")\n",
        "plt.semilogy(np.arange(0, it_steps-1, 0.1), 0.18**np.arange(0, it_steps-1, 0.1), label=\"$y=0.2^x$\")\n",
        "fig = plt.gcf()\n",
        "ax = plt.gca()\n",
        "ax.set_xlabel(\"Iterations\")\n",
        "ax.set_ylabel(\"Error\")\n",
        "ax.set_title(\"Convergence of the Multigrid Method\")\n",
        "ax.legend()"
      ]
    },
    {
      "attachments": {},
      "cell_type": "markdown",
      "metadata": {},
      "source": [
        "## Analysis"
      ]
    },
    {
      "attachments": {},
      "cell_type": "markdown",
      "metadata": {
        "id": "vTcg2AHq5_z8"
      },
      "source": [
        "\\begin{align*}\n",
        "    \\tilde{X}   &= \\mathrm{diag}(A) = 2I\\\\\n",
        "    \\lambda(\\tilde{X}^{-1}X) &= \\frac{1}{4}\\lambda_{\\max}(MM^T)\\\\\n",
        "    MM^T        &=\n",
        "    \\begin{bmatrix}\n",
        "        4& -2& & &\\\\\n",
        "        -2& 5& -2& &\\\\\n",
        "        & -2& 5& -2&\\\\\n",
        "        & & -2& 5&-2\\\\\n",
        "        & & & -2&5\n",
        "    \\end{bmatrix}\n",
        "\\end{align*}"
      ]
    },
    {
      "attachments": {},
      "cell_type": "markdown",
      "metadata": {},
      "source": [
        "By the Geshgorin circle theorem $\\lambda_{\\max}(\\tilde{X}^{-1}X) \\leq 9/4 = 2.25$."
      ]
    },
    {
      "attachments": {},
      "cell_type": "markdown",
      "metadata": {},
      "source": [
        "Use the left inverse\n",
        "\n",
        "$$\n",
        "\\tilde R = \n",
        "\\begin{bmatrix}\n",
        "1 &0 &0 &0 &0\\\\\n",
        "0 &0 &1 &0 &0\\\\\n",
        "0 &0 &0 &0 &1\n",
        "\\end{bmatrix}\n",
        "$$\n",
        "\n",
        "to estimate $K_{\\tilde X}$:\n",
        "\n",
        "\\begin{align*}\n",
        "K_{\\tilde X}    &\\leq \\max_{v\\in\\mathbf{R}^n\\setminus \\{0\\}}\\frac{\\|(I-P\\tilde R)v\\|_{\\tilde X}^2}{\\|v\\|_A^2}\\\\\n",
        "                &= \\max_{v\\in\\mathbf{R}^n\\setminus \\{0\\}}\\frac{1}{1+\\frac{C}{D}}\\\\\n",
        "                &= 1\n",
        "\\end{align*}\n",
        "\n",
        "where\n",
        "\n",
        "$$ \n",
        "C = \\left(\\frac{v_{C,1}+v_{C,2}}{2}\\right)^2 + \\left(\\frac{v_{C,2}+v_{C,3}}{2}\\right)^2 + \\left(\\frac{v_{C,1}}{2}\\right)^2 + \\left(\\frac{v_{C,3}}{2}\\right)^2\n",
        "$$\n",
        "\n",
        "and\n",
        "\n",
        "$$ \n",
        "\\left(v_{F,1}-\\frac{v_{C,1}+v_{C,2}}{2}\\right)^2+\\left(v_{F,2}-\\frac{v_{C,2}+v_{C,3}}{2}\\right)^2 \n",
        "$$"
      ]
    },
    {
      "cell_type": "code",
      "execution_count": 36,
      "metadata": {},
      "outputs": [
        {
          "data": {
            "text/plain": [
              "array([[ 0. ,  0. ,  0. ,  0. ,  0. ],\n",
              "       [-0.5,  1. , -0.5,  0. ,  0. ],\n",
              "       [ 0. ,  0. ,  0. ,  0. ,  0. ],\n",
              "       [ 0. ,  0. , -0.5,  1. , -0.5],\n",
              "       [ 0. ,  0. ,  0. ,  0. ,  0. ]])"
            ]
          },
          "execution_count": 36,
          "metadata": {},
          "output_type": "execute_result"
        }
      ],
      "source": [
        "r = np.array([[1,0,0,0,0],[0,0,1,0,0],[0,0,0,0,1]])\n",
        "I-p@r"
      ]
    },
    {
      "attachments": {},
      "cell_type": "markdown",
      "metadata": {},
      "source": [
        "Therefore, $K_X \\leq \\lambda_{\\max}(\\tilde{X}^{-1}X) K_{\\tilde X} \\leq 2.25$.\n",
        "\n",
        "$\\rho(T) = 1 - \\frac{1}{K_X} \\leq 1-\\frac{1}{2.25}\\approx 0.56$"
      ]
    },
    {
      "cell_type": "code",
      "execution_count": 26,
      "metadata": {},
      "outputs": [
        {
          "data": {
            "text/plain": [
              "8.155194912017161e-08"
            ]
          },
          "execution_count": 26,
          "metadata": {},
          "output_type": "execute_result"
        }
      ],
      "source": [
        "errs[-1]"
      ]
    },
    {
      "cell_type": "code",
      "execution_count": 27,
      "metadata": {},
      "outputs": [
        {
          "data": {
            "text/plain": [
              "7.012975152383332e-08"
            ]
          },
          "execution_count": 27,
          "metadata": {},
          "output_type": "execute_result"
        }
      ],
      "source": [
        "np.linalg.norm(t**it_steps @ x0)"
      ]
    }
  ],
  "metadata": {
    "colab": {
      "provenance": []
    },
    "kernelspec": {
      "display_name": "pyML",
      "language": "python",
      "name": "python3"
    },
    "language_info": {
      "codemirror_mode": {
        "name": "ipython",
        "version": 3
      },
      "file_extension": ".py",
      "mimetype": "text/x-python",
      "name": "python",
      "nbconvert_exporter": "python",
      "pygments_lexer": "ipython3",
      "version": "3.9.2 (default, Mar  3 2021, 15:03:14) [MSC v.1916 64 bit (AMD64)]"
    },
    "vscode": {
      "interpreter": {
        "hash": "7077b766e1918bbc0f28ee832d4afd24ebcd6356279dc209e84047333f10e453"
      }
    }
  },
  "nbformat": 4,
  "nbformat_minor": 0
}
